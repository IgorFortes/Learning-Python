{
  "nbformat": 4,
  "nbformat_minor": 0,
  "metadata": {
    "colab": {
      "name": "Exercise conditional structures.ipynb",
      "provenance": [],
      "collapsed_sections": [],
      "authorship_tag": "ABX9TyNWhLC0VzP1EXF/k94opNK3",
      "include_colab_link": true
    },
    "kernelspec": {
      "name": "python3",
      "display_name": "Python 3"
    },
    "language_info": {
      "name": "python"
    }
  },
  "cells": [
    {
      "cell_type": "markdown",
      "metadata": {
        "id": "view-in-github",
        "colab_type": "text"
      },
      "source": [
        "<a href=\"https://colab.research.google.com/github/IgorFortes/Learning-Python/blob/main/Exercise_conditional_structures.ipynb\" target=\"_parent\"><img src=\"https://colab.research.google.com/assets/colab-badge.svg\" alt=\"Open In Colab\"/></a>"
      ]
    },
    {
      "cell_type": "markdown",
      "metadata": {
        "id": "r-IcpqSI-g02"
      },
      "source": [
        "#### Leia a idade do usuário e classifique-o em:\n",
        "#### – Criança – 0 a 12 anos\n",
        "#### – Adolescente – 13 a 17 anos\n",
        "#### – Adulto – acima de 18 anos\n",
        "#### -Se o usuário digitar um número negativo, mostrar a mensagem que a idade é inválida"
      ]
    },
    {
      "cell_type": "code",
      "metadata": {
        "colab": {
          "base_uri": "https://localhost:8080/"
        },
        "id": "NROgkxiH-hr5",
        "outputId": "68fd4978-c41b-469d-9fb0-2d1b15b7e019"
      },
      "source": [
        "age = int(input('Enter your age:'))\n",
        "\n",
        "if age < 0:\n",
        "  print('Idade inválida')\n",
        "elif age <= 12:\n",
        "  print('Criança')\n",
        "elif age <= 18:\n",
        "  print('Adolescente')\n",
        "elif age > 18:\n",
        "  print('Adulto')\n",
        "else:\n",
        "  print('Idade sem classificação')"
      ],
      "execution_count": null,
      "outputs": [
        {
          "output_type": "stream",
          "text": [
            "Enter your age:-5\n",
            "Idade inválida\n"
          ],
          "name": "stdout"
        }
      ]
    },
    {
      "cell_type": "markdown",
      "metadata": {
        "id": "YU5juGbE_UMe"
      },
      "source": [
        "#### Calcular a média de um aluno que cursou a disciplina de Programação I, a partir da leitura das notas M1, M2 e M3; passando por um cálculo da média aritmética. Após a média calculada, devemos anunciar se o aluno foi aprovado, reprovado ou pegou exame \n",
        "#### – Se a média estiver entre 0.0 e 4.0, o aluno está reprovado\n",
        "#### – Se a média estiver entre 4.1 e 6.0, o aluno pegou exame\n",
        "#### – Se a média for maior do que 6.0, o aluno está aprovado\n",
        "#### – Se o aluno pegou exame, deve ser lida a nota do exame. Se a nota do exame for maior do que 6.0, está aprovado, senão; está reprovado"
      ]
    },
    {
      "cell_type": "code",
      "metadata": {
        "colab": {
          "base_uri": "https://localhost:8080/"
        },
        "id": "ufz1XXr6_i8-",
        "outputId": "9e84f630-a510-4cbe-c079-5e3e4d310bf5"
      },
      "source": [
        "m1 = float(input('Enter your M1 grade:'))\n",
        "m2 = float(input('Enter your M2 grade:'))\n",
        "m3 = float(input('Enter your M3 grade:'))\n",
        "\n",
        "average_grade = (m1 + m2 + m3) / 3\n",
        "\n",
        "if average_grade <= 4:\n",
        "  print('Reprovado')\n",
        "elif average_grade <= 6:\n",
        "  print('Exame')\n",
        "  grade = float(input('Enter the grade of the exam:'))\n",
        "  if grade > 6:\n",
        "    print('Aprovado')\n",
        "  else:\n",
        "    print('Reprovado')\n",
        "elif average_grade > 6:\n",
        "  print('Aprovado')\n",
        "else:\n",
        "  print('Nota sem classificação')"
      ],
      "execution_count": null,
      "outputs": [
        {
          "output_type": "stream",
          "text": [
            "Enter your M1 grade:5\n",
            "Enter your M2 grade:5\n",
            "Enter your M3 grade:5\n",
            "Exame\n",
            "Enter the grade of the exam:7\n",
            "Aprovado\n"
          ],
          "name": "stdout"
        }
      ]
    }
  ]
}