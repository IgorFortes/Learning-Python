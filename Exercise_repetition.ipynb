{
  "nbformat": 4,
  "nbformat_minor": 0,
  "metadata": {
    "colab": {
      "name": "Exercise repetition.ipynb",
      "provenance": [],
      "collapsed_sections": [],
      "authorship_tag": "ABX9TyMS7gHNzXlFzSteZAsMKXZQ",
      "include_colab_link": true
    },
    "kernelspec": {
      "name": "python3",
      "display_name": "Python 3"
    },
    "language_info": {
      "name": "python"
    }
  },
  "cells": [
    {
      "cell_type": "markdown",
      "metadata": {
        "id": "view-in-github",
        "colab_type": "text"
      },
      "source": [
        "<a href=\"https://colab.research.google.com/github/IgorFortes/Learning-Python/blob/main/Exercise_repetition.ipynb\" target=\"_parent\"><img src=\"https://colab.research.google.com/assets/colab-badge.svg\" alt=\"Open In Colab\"/></a>"
      ]
    },
    {
      "cell_type": "markdown",
      "metadata": {
        "id": "89NLN7QwGJM7"
      },
      "source": [
        "#### Ler 5 notas e informar a média"
      ]
    },
    {
      "cell_type": "code",
      "metadata": {
        "colab": {
          "base_uri": "https://localhost:8080/"
        },
        "id": "dGWzhMFXF1a_",
        "outputId": "8f9db7fc-e106-4b6e-8597-1df6a2fdf1fe"
      },
      "source": [
        "count = sum_grade = 0\n",
        "total_grade = 5\n",
        "\n",
        "for _ in range(count, total_grade):\n",
        "  sum_grade += float(input('Enter your grade: '))\n",
        "\n",
        "print('The average grade is:', sum_grade / total_grade)"
      ],
      "execution_count": null,
      "outputs": [
        {
          "output_type": "stream",
          "text": [
            "Enter your grade: 5\n",
            "Enter your grade: 10\n",
            "Enter your grade: 3\n",
            "Enter your grade: 7\n",
            "Enter your grade: 9\n",
            "The average grade is: 6.8\n"
          ],
          "name": "stdout"
        }
      ]
    },
    {
      "cell_type": "markdown",
      "metadata": {
        "id": "kQLDnGc5GNTM"
      },
      "source": [
        "#### Imprimir a tabuada do número 3 (3 x 1 = 1 – 3 x 10 = 30)"
      ]
    },
    {
      "cell_type": "code",
      "metadata": {
        "colab": {
          "base_uri": "https://localhost:8080/"
        },
        "id": "DJzXIwelHZ9Y",
        "outputId": "93c46e08-fc25-4cbe-b2ae-22bfd0b4b0b8"
      },
      "source": [
        "count = 0\n",
        "max = 10\n",
        "num = 3\n",
        "\n",
        "while count <= max:\n",
        "  print('3 x {} = {}'.format(count, count * num))\n",
        "  count += 1"
      ],
      "execution_count": null,
      "outputs": [
        {
          "output_type": "stream",
          "text": [
            "3 x 0 = 0\n",
            "3 x 1 = 3\n",
            "3 x 2 = 6\n",
            "3 x 3 = 9\n",
            "3 x 4 = 12\n",
            "3 x 5 = 15\n",
            "3 x 6 = 18\n",
            "3 x 7 = 21\n",
            "3 x 8 = 24\n",
            "3 x 9 = 27\n",
            "3 x 10 = 30\n"
          ],
          "name": "stdout"
        }
      ]
    }
  ]
}