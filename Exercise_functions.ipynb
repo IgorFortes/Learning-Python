{
  "nbformat": 4,
  "nbformat_minor": 0,
  "metadata": {
    "colab": {
      "name": "Exercise_functions.ipynb",
      "provenance": [],
      "collapsed_sections": [],
      "authorship_tag": "ABX9TyM/w23KOh7blmjSXATyVscM",
      "include_colab_link": true
    },
    "kernelspec": {
      "name": "python3",
      "display_name": "Python 3"
    },
    "language_info": {
      "name": "python"
    }
  },
  "cells": [
    {
      "cell_type": "markdown",
      "metadata": {
        "id": "view-in-github",
        "colab_type": "text"
      },
      "source": [
        "<a href=\"https://colab.research.google.com/github/IgorFortes/Learning-Python/blob/main/Exercise_functions.ipynb\" target=\"_parent\"><img src=\"https://colab.research.google.com/assets/colab-badge.svg\" alt=\"Open In Colab\"/></a>"
      ]
    },
    {
      "cell_type": "markdown",
      "metadata": {
        "id": "UQigNDoVbMQB"
      },
      "source": [
        "#### Ler uma temperatura em graus Celsius e apresentá-la convertida em graus Fahrenheit. A fórmula de conversão é F = (9 * C + 160) / 5, na qual F é a temperatura em Fahrenheit e C é a temperatura em graus Celsius\n",
        "#### – Função para ler e retorna o valor da temperatura (não recebe parâmetro)\n",
        "#### – Função para fazer o cálculo (recebe como parâmetro a temperatura em graus Celsius)\n",
        "#### – Função para mostrar o resultado, recebendo como parâmetro o valor e fazendo a impressão"
      ]
    },
    {
      "cell_type": "code",
      "metadata": {
        "id": "BDxE1yRzTZQf"
      },
      "source": [
        "def read_celsius(): \n",
        "  return float(input('Enter the Celsius degree: '))\n",
        "\n",
        "def calculation(celsius):\n",
        "  return (9 * celsius + 160) / 5\n",
        "\n",
        "def show_fahrenheit(fahrenheit):\n",
        "  print('The degree converted from Celsius to Fahrenheit is: ', fahrenheit)\n",
        "\n",
        "def convert_celsius_fahrenheit():\n",
        "  celsius = read_celsius()\n",
        "  fahrenheit = calculation(celsius)\n",
        "  show_fahrenheit(fahrenheit)"
      ],
      "execution_count": null,
      "outputs": []
    },
    {
      "cell_type": "code",
      "metadata": {
        "colab": {
          "base_uri": "https://localhost:8080/"
        },
        "id": "5_IOTCKxbL8N",
        "outputId": "803ad719-4ce8-4502-e0d8-94fa55072539"
      },
      "source": [
        "convert_celsius_fahrenheit()"
      ],
      "execution_count": null,
      "outputs": [
        {
          "output_type": "stream",
          "name": "stdout",
          "text": [
            "Enter the Celsius degree: 30\n",
            "The degree converted from Celsius to Fahrenheit is:  86.0\n"
          ]
        }
      ]
    },
    {
      "cell_type": "markdown",
      "metadata": {
        "id": "AF7497A3b-eu"
      },
      "source": [
        "#### Efetuar o cálculo da quantidade de litros de combustível gasto em uma viagem, utilizando um automóvel que faz 12 Km por litro. Para obter o cálculo, o usuário deve fornecer o tempo gasto na viagem e a velocidade média durante ela. Desta forma, será possível obter a distância percorrida com a fórmula DISTANCIA = TEMPO * VELOCIDADE. Tendo o valor da distância, basta calcular a quantidade de litros de combustível utilizada na viagem, com a fórmula: LITROS_USADOS = DISTANCIA / 12. O programa deve apresentar os valores da velocidade média, tempo gasto na viagem, a distância percorrida e a quantidade de litros utilizada na viagem\n",
        "#### – Função para ler os valores (não recebe parâmetro e retorna os dois valores)\n",
        "#### – Função para calcular a distância (recebe como parâmetro o tempo e a velocidade e retorna a distância)\n",
        "#### – Função para calcular a quantidade de litros (recebe como parâmetro a distância e retorna os litros)\n",
        "#### – Função para apresentar o resultado (recebe como parâmetro os valores e somente imprime o resultado)"
      ]
    },
    {
      "cell_type": "code",
      "metadata": {
        "id": "Z0Hh3g-_cEl8"
      },
      "source": [
        "def read_time_velocity(): \n",
        "  return float(input('Enter the time of the trip: ')), float(input('Enter the average velocity: '))\n",
        "\n",
        "def distance_calc(time, velocity):\n",
        "  return time * velocity\n",
        "\n",
        "def liter_calc(distance):\n",
        "  return distance * 12\n",
        "\n",
        "def show_trip_resume(velocity, time, distance, liter):\n",
        "  print('The total time of the trip was: ', time)\n",
        "  print('The average velocity: ', velocity)\n",
        "  print('The distance: ', distance)\n",
        "  print('The total liters, ', liter)\n",
        "\n",
        "def show_trip():\n",
        "  time, velocity = read_time_velocity()\n",
        "  distance = distance_calc(time, velocity)\n",
        "  liter = liter_calc(distance)\n",
        "  show_trip_resume(velocity, time, distance, liter)"
      ],
      "execution_count": 17,
      "outputs": []
    },
    {
      "cell_type": "code",
      "metadata": {
        "id": "UVi3205ge-4j",
        "colab": {
          "base_uri": "https://localhost:8080/"
        },
        "outputId": "205c5ae5-bb35-4b4a-9712-52716434e42e"
      },
      "source": [
        "show_trip()"
      ],
      "execution_count": 18,
      "outputs": [
        {
          "output_type": "stream",
          "name": "stdout",
          "text": [
            "Enter the time of the trip: 2\n",
            "Enter the average velocity: 10\n",
            "The total time of the trip was:  2.0\n",
            "The average velocity:  10.0\n",
            "The distance:  20.0\n",
            "The total liters,  240.0\n"
          ]
        }
      ]
    }
  ]
}