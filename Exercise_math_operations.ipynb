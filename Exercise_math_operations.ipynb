{
  "nbformat": 4,
  "nbformat_minor": 0,
  "metadata": {
    "colab": {
      "name": "Exercise math operations.ipynb",
      "provenance": [],
      "collapsed_sections": [],
      "authorship_tag": "ABX9TyMoVJxv65GoQAOAnNuCx7uw",
      "include_colab_link": true
    },
    "kernelspec": {
      "name": "python3",
      "display_name": "Python 3"
    },
    "language_info": {
      "name": "python"
    }
  },
  "cells": [
    {
      "cell_type": "markdown",
      "metadata": {
        "id": "view-in-github",
        "colab_type": "text"
      },
      "source": [
        "<a href=\"https://colab.research.google.com/github/IgorFortes/Learning-Python/blob/main/Exercise_math_operations.ipynb\" target=\"_parent\"><img src=\"https://colab.research.google.com/assets/colab-badge.svg\" alt=\"Open In Colab\"/></a>"
      ]
    },
    {
      "cell_type": "markdown",
      "metadata": {
        "id": "d786OjSq68Nh"
      },
      "source": [
        "#### Ler dois números inteiros, executar e mostrar o resultado das seguintes operações: adição, subtração, multiplicação e divisão"
      ]
    },
    {
      "cell_type": "code",
      "metadata": {
        "colab": {
          "base_uri": "https://localhost:8080/"
        },
        "id": "8eRBoL4GwExd",
        "outputId": "19e27838-93b2-459e-91d8-7cad0d88c917"
      },
      "source": [
        "first_num = float(input('Enter the first number:'))\n",
        "second_num = float(input('Enter the second number:'))\n",
        "\n",
        "print('The sum of the values is', first_num + second_num)\n",
        "print('The sub of the values is', first_num - second_num)\n",
        "print('The mul of the values is', first_num * second_num)\n",
        "print('The div of the values is', first_num / second_num)"
      ],
      "execution_count": null,
      "outputs": [
        {
          "output_type": "stream",
          "text": [
            "Enter the first number:5\n",
            "Enter the second number:10\n",
            "The sum of the values is 15.0\n",
            "The sub of the values is -5.0\n",
            "The mul of the values is 50.0\n",
            "The div of the values is 0.5\n"
          ],
          "name": "stdout"
        }
      ]
    },
    {
      "cell_type": "markdown",
      "metadata": {
        "id": "7aCkXB9u6_mO"
      },
      "source": [
        "#### Efetuar o cálculo da quantidade de litros de combustível gasto em uma viagem, utilizando um automóvel que faz 12 Km por litro. Para obter o cálculo, o usuário deve fornecer o tempo gasto na viagem e a velocidade média durante ela. Desta forma, será possível obter a distância percorrida com a fórmula DISTANCIA = TEMPO * VELOCIDADE. Tendo o valor da distância, basta calcular a quantidade de litros de combustível utilizada na viagem, com a fórmula: LITROS_USADOS = DISTANCIA / 12. O programa deve apresentar os valores da velocidade média, tempo gasto na viagem, a distância percorrida e a quantidade de litros utilizada na viagem"
      ]
    },
    {
      "cell_type": "code",
      "metadata": {
        "colab": {
          "base_uri": "https://localhost:8080/"
        },
        "id": "6kLk3TGa4z7C",
        "outputId": "14897a6f-5bb3-47f7-9295-15e0b4902e3c"
      },
      "source": [
        "trip_time = float(input('Enter the time in hours with decimals the time spent in the trip:'))\n",
        "trip_velocity = float(input('Enter the average velocity:'))\n",
        "per_liter = 12\n",
        "\n",
        "distance = trip_time * trip_velocity\n",
        "kilometers_liter = distance / per_liter\n",
        "\n",
        "print('The average velocity was:', trip_velocity)\n",
        "print('The time spent:', trip_time)\n",
        "print('The distance:', distance)\n",
        "print('The kilometers per liter:', kilometers_liter)"
      ],
      "execution_count": null,
      "outputs": [
        {
          "output_type": "stream",
          "text": [
            "Enter the time in hours with decimals the time spent in the trip:15\n",
            "Enter the average velocity:5\n",
            "The average velocity was: 5.0\n",
            "The time spent: 15.0\n",
            "The distance: 75.0\n",
            "The kilometers per liter: 6.25\n"
          ],
          "name": "stdout"
        }
      ]
    }
  ]
}