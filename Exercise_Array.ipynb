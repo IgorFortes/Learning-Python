{
  "nbformat": 4,
  "nbformat_minor": 0,
  "metadata": {
    "colab": {
      "name": "Exercise Array.ipynb",
      "provenance": [],
      "collapsed_sections": [],
      "authorship_tag": "ABX9TyN9L8BZ/5pKPiKagJER/2h8",
      "include_colab_link": true
    },
    "kernelspec": {
      "name": "python3",
      "display_name": "Python 3"
    },
    "language_info": {
      "name": "python"
    }
  },
  "cells": [
    {
      "cell_type": "markdown",
      "metadata": {
        "id": "view-in-github",
        "colab_type": "text"
      },
      "source": [
        "<a href=\"https://colab.research.google.com/github/IgorFortes/Learning-Python/blob/main/Exercise_Array.ipynb\" target=\"_parent\"><img src=\"https://colab.research.google.com/assets/colab-badge.svg\" alt=\"Open In Colab\"/></a>"
      ]
    },
    {
      "cell_type": "markdown",
      "metadata": {
        "id": "8y__JbRVO7Dc"
      },
      "source": [
        "#### Lista: Crie uma estrutura de repetição para fazer a leitura de 5 números inteiros e os armazene dentro de uma lista. Após a leitura, crie outra estrutura de repetição para somar todos os valores digitados"
      ]
    },
    {
      "cell_type": "code",
      "metadata": {
        "colab": {
          "base_uri": "https://localhost:8080/"
        },
        "id": "cugniVhBO2Jd",
        "outputId": "4b2f85c7-2c3e-4c05-b947-2584cd3f9a90"
      },
      "source": [
        "list = []\n",
        "for _ in range(0, 5):\n",
        "  list.append(float(input('Enter a value: ')))\n",
        "\n",
        "sum = i = 0\n",
        "for i in range(0, len(list)):\n",
        "  sum += list[i]\n",
        "\n",
        "print('The sum is: ', sum)"
      ],
      "execution_count": 21,
      "outputs": [
        {
          "output_type": "stream",
          "text": [
            "Enter a value: 5\n",
            "Enter a value: 5\n",
            "Enter a value: 5\n",
            "Enter a value: 5\n",
            "Enter a value: 5\n",
            "The sum is:  25.0\n"
          ],
          "name": "stdout"
        }
      ]
    },
    {
      "cell_type": "code",
      "metadata": {
        "colab": {
          "base_uri": "https://localhost:8080/"
        },
        "id": "SXdQRz9OVrKr",
        "outputId": "4529754e-eba3-4778-a37c-e4c718c2c867"
      },
      "source": [
        "import numpy as np\n",
        "np.array(list).sum()"
      ],
      "execution_count": 22,
      "outputs": [
        {
          "output_type": "execute_result",
          "data": {
            "text/plain": [
              "25.0"
            ]
          },
          "metadata": {},
          "execution_count": 22
        }
      ]
    },
    {
      "cell_type": "markdown",
      "metadata": {
        "id": "-iYK0vWjQT5d"
      },
      "source": [
        "#### Crie um dicionário para armazenar o nome e a nota de 3 alunos, fazendo a leitura dos valores por meio de uma estrutura de repetição. Depois, crie uma nova estrutura de repetição para somar todas as notas e retornar a média"
      ]
    },
    {
      "cell_type": "code",
      "metadata": {
        "colab": {
          "base_uri": "https://localhost:8080/"
        },
        "id": "VfbQzKorQXJB",
        "outputId": "c680b736-e260-4881-ec2e-7141cccd4ccc"
      },
      "source": [
        "grades = {}\n",
        "sum = 0\n",
        "\n",
        "for i in range(0, 3):\n",
        "  name = input(f'Enter the name of the {i + 1} student ')\n",
        "  grade = float(input(f'Enter the grade of the {i + 1} student '))\n",
        "  grades[name] = grade\n",
        "\n",
        "for name, grade in grades.items():\n",
        "  sum += grade\n",
        "\n",
        "print(sum / len(grades))"
      ],
      "execution_count": 15,
      "outputs": [
        {
          "output_type": "stream",
          "text": [
            "Enter the name of the 1 student igor\n",
            "Enter the grade of the 1 student 10\n",
            "Enter the name of the 2 student karol\n",
            "Enter the grade of the 2 student 0\n",
            "Enter the name of the 3 student chen\n",
            "Enter the grade of the 3 student 15\n",
            "8.333333333333334\n"
          ],
          "name": "stdout"
        }
      ]
    },
    {
      "cell_type": "markdown",
      "metadata": {
        "id": "YWr2RyWLTp2f"
      },
      "source": [
        "#### Matriz: Dada a matriz abaixo, construa uma estrutura de repetição para percorrer e somar todos os elementos da matriz\n",
        "\n",
        "matriz = np.array([[3, 4, 1],\n",
        "                   [3, 1, 5]])"
      ]
    },
    {
      "cell_type": "code",
      "metadata": {
        "colab": {
          "base_uri": "https://localhost:8080/"
        },
        "id": "lx-SwA77Tsyd",
        "outputId": "ef679555-8d22-4488-a7cb-d2ecc556b721"
      },
      "source": [
        "import numpy as np\n",
        "nums = np.array([[3, 4, 1], [3, 1, 5]])\n",
        "\n",
        "sum = 0\n",
        "\n",
        "for i in range(nums.shape[0]):\n",
        "  for j in range(nums.shape[1]):\n",
        "    sum += nums[i, j]\n",
        "print('The sum is:', sum)"
      ],
      "execution_count": 20,
      "outputs": [
        {
          "output_type": "stream",
          "text": [
            "The sum is: 17\n"
          ],
          "name": "stdout"
        }
      ]
    }
  ]
}